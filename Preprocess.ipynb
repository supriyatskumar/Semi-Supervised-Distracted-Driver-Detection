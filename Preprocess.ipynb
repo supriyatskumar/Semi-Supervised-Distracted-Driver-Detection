{
 "cells": [
  {
   "cell_type": "code",
   "execution_count": 1,
   "metadata": {},
   "outputs": [],
   "source": [
    "import os\n",
    "import random\n",
    "import numpy as np\n",
    "import pandas as pd \n",
    "from skimage import io\n",
    "from skimage import color\n",
    "from PIL import Image\n",
    "from IPython.display import display\n",
    "import matplotlib.pyplot as plt\n",
    "import seaborn as sns\n",
    "from dask.array.image import imread\n",
    "from dask import bag, threaded\n",
    "from dask.diagnostics import ProgressBar\n",
    "from sklearn.model_selection import train_test_split\n",
    "import warnings\n",
    "warnings.filterwarnings(\"ignore\")\n",
    "import pickle\n",
    "from skimage.transform import resize\n",
    "from sys import getsizeof\n",
    "\n",
    "import torch\n",
    "import torch.nn as nn\n",
    "from torch.utils import data\n",
    "from torch.utils.data import Dataset, DataLoader\n",
    "from torchvision import transforms, utils\n",
    "from torch.autograd import Variable\n",
    "import torch.nn.functional as F"
   ]
  },
  {
   "cell_type": "code",
   "execution_count": 2,
   "metadata": {},
   "outputs": [
    {
     "name": "stdout",
     "output_type": "stream",
     "text": [
      "  subject classname            img\n",
      "0    p002        c0  img_44733.jpg\n",
      "1    p002        c0  img_72999.jpg\n",
      "2    p002        c0  img_25094.jpg\n",
      "3    p002        c0  img_69092.jpg\n",
      "4    p002        c0  img_92629.jpg\n"
     ]
    }
   ],
   "source": [
    "driver_details = pd.read_csv('imgs/driver_imgs_list.csv',na_values='na')\n",
    "print(driver_details.head(5))"
   ]
  },
  {
   "cell_type": "code",
   "execution_count": 3,
   "metadata": {},
   "outputs": [
    {
     "name": "stdout",
     "output_type": "stream",
     "text": [
      "now we are in the folder C 0\n",
      "2489\n",
      "now we are in the folder C 1\n",
      "2267\n",
      "now we are in the folder C 2\n",
      "2317\n",
      "now we are in the folder C 3\n",
      "2346\n",
      "now we are in the folder C 4\n",
      "2326\n",
      "now we are in the folder C 5\n",
      "2312\n",
      "now we are in the folder C 6\n",
      "2325\n",
      "now we are in the folder C 7\n",
      "2002\n",
      "now we are in the folder C 8\n",
      "1911\n",
      "now we are in the folder C 9\n",
      "2129\n"
     ]
    }
   ],
   "source": [
    "train_image = []\n",
    "for i in range(10):\n",
    "    print('now we are in the folder C',i)\n",
    "    imgs = os.listdir(\"imgs/train/c\"+str(i))\n",
    "    print(len(imgs))\n",
    "    for j in range(len(imgs)): \n",
    "        img_name = \"imgs/train/c\"+str(i)+\"/\"+imgs[j]\n",
    "        img = imread(img_name)\n",
    "        img = color.rgb2gray(img[0])\n",
    "        img = resize(img,(128,128))\n",
    "        label = i\n",
    "        driver = driver_details[driver_details['img'] == imgs[j]]['subject'].values[0]\n",
    "        train_image.append([img,label,driver])"
   ]
  },
  {
   "cell_type": "code",
   "execution_count": 22,
   "metadata": {},
   "outputs": [],
   "source": [
    "## getting list of driver names\n",
    "D = []\n",
    "for features,labels,drivers in train_image:\n",
    "    D.append(drivers)\n",
    "## Deduplicating drivers\n",
    "deduped = []\n",
    "for i in D:\n",
    "    if i not in deduped:\n",
    "        deduped.append(i)   \n",
    "## selecting random drivers for the validation set\n",
    "driv_selected = []\n",
    "import random\n",
    "driv_nums = random.sample(range(len(deduped)), 8)\n",
    "for i in driv_nums:\n",
    "    driv_selected.append(deduped[i])"
   ]
  },
  {
   "cell_type": "code",
   "execution_count": 23,
   "metadata": {},
   "outputs": [],
   "source": [
    "## Splitting the train and val\n",
    "X_train= []\n",
    "y_train = []\n",
    "X_val = []\n",
    "y_val = []\n",
    "for features,labels,drivers in train_image:\n",
    "    if drivers in driv_selected:\n",
    "        X_val.append(features)\n",
    "        y_val.append(labels)   \n",
    "    else:\n",
    "        X_train.append(features)\n",
    "        y_train.append(labels)yy"
   ]
  },
  {
   "cell_type": "code",
   "execution_count": 25,
   "metadata": {},
   "outputs": [],
   "source": [
    "X_train = np.array(X_train).reshape(-1,128,128,1)\n",
    "X_val = np.array(X_val).reshape(-1,128,128,1)\n",
    "\n",
    "y_train=np.array(y_train)\n",
    "y_val=np.array(y_val)"
   ]
  },
  {
   "cell_type": "code",
   "execution_count": 26,
   "metadata": {},
   "outputs": [
    {
     "name": "stdout",
     "output_type": "stream",
     "text": [
      "now we are in the test folder\n"
     ]
    }
   ],
   "source": [
    "unlab_image = []\n",
    "\n",
    "print('now we are in the test folder')\n",
    "imgs = os.listdir(\"imgs/test\")\n",
    "for j in range(40000):\n",
    "    img_name = \"imgs/test/\"+imgs[j]\n",
    "    img = imread(img_name)\n",
    "    img = color.rgb2gray(img[0])\n",
    "    img = resize(img,(128,128))\n",
    "    label = -1\n",
    "    unlab_image.append([img,label])"
   ]
  },
  {
   "cell_type": "code",
   "execution_count": 27,
   "metadata": {},
   "outputs": [
    {
     "name": "stdout",
     "output_type": "stream",
     "text": [
      "40000 40000\n"
     ]
    }
   ],
   "source": [
    "X_unlab= []\n",
    "y_unlab = []\n",
    "\n",
    "for features,labels in unlab_image:\n",
    "    X_unlab.append(features)\n",
    "    y_unlab.append(labels)\n",
    "    \n",
    "print (len(X_unlab),len(y_unlab))"
   ]
  },
  {
   "cell_type": "code",
   "execution_count": 28,
   "metadata": {},
   "outputs": [
    {
     "data": {
      "text/plain": [
       "((40000, 128, 128, 1), (40000,))"
      ]
     },
     "execution_count": 28,
     "metadata": {},
     "output_type": "execute_result"
    }
   ],
   "source": [
    "X_unlab = np.array(X_unlab).reshape(-1,128,128,1)\n",
    "y_unlab = np.array(y_unlab)\n",
    "X_unlab.shape,y_unlab.shape"
   ]
  },
  {
   "cell_type": "code",
   "execution_count": null,
   "metadata": {},
   "outputs": [],
   "source": []
  }
 ],
 "metadata": {
  "kernelspec": {
   "display_name": "Python 3",
   "language": "python",
   "name": "python3"
  },
  "language_info": {
   "codemirror_mode": {
    "name": "ipython",
    "version": 3
   },
   "file_extension": ".py",
   "mimetype": "text/x-python",
   "name": "python",
   "nbconvert_exporter": "python",
   "pygments_lexer": "ipython3",
   "version": "3.7.4"
  }
 },
 "nbformat": 4,
 "nbformat_minor": 4
}
